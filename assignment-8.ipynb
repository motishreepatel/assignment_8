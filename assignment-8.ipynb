{
 "cells": [
  {
   "cell_type": "code",
   "execution_count": null,
   "metadata": {},
   "outputs": [],
   "source": [
    "#Q - 1. Is the Python Standard Library included with PyInputPlus?\n",
    "#Answer:\n",
    "\n",
    "No, the Python Standard Library is different from the PyInputPlus library. The Python Standard Library is a collection of modules and packages that come bundled with Python itself and provide a wide range of functionalities.\n",
    "\n",
    "Where, PyInputPlus is a third-party library that is not part of the Python Standard Library. It is an additional library that we can install separately to handle user input in a convenient and reliable manner."
   ]
  },
  {
   "cell_type": "code",
   "execution_count": null,
   "metadata": {},
   "outputs": [],
   "source": [
    "#Q - 2. Why is PyInputPlus commonly imported with import pyinputplus as pypi?\n",
    "#Answer:\n",
    "The import statement import pyinputplus as pypi allows us to import the PyInputPlus library and give it an alias pypi for convenience. \n",
    "This alias provides a shorter and more readable name to refer the PyInputPlus library in our code."
   ]
  },
  {
   "cell_type": "code",
   "execution_count": null,
   "metadata": {},
   "outputs": [],
   "source": [
    "#Q - 3. How do you distinguish between inputInt() and inputFloat()?\n",
    "#Answer:\n",
    "In PyInputPlus library, inputInt() and inputFloat() are functions used for accepting user input as integers and floats, respectively. \n",
    "These functions allows us to validate and enforce the input type according to the requirements.\n",
    "inputInt(): This function prompts the user for input and ensures that the entered value is a valid integer.\n",
    "inputFloat(): This function prompts the user for input and ensures that the entered value is a valid floating-point number. "
   ]
  },
  {
   "cell_type": "code",
   "execution_count": 3,
   "metadata": {},
   "outputs": [
    {
     "name": "stdout",
     "output_type": "stream",
     "text": [
      "Defaulting to user installation because normal site-packages is not writeable\n",
      "Collecting pyinputplus\n",
      "  Downloading PyInputPlus-0.2.12.tar.gz (20 kB)\n",
      "\u001b[33m  WARNING: Value for prefixed-purelib does not match. Please report this to <https://github.com/pypa/pip/issues/10151>\n",
      "  distutils: /private/var/folders/6d/7kpqxgm142qc20s583q5q0zw0000gp/T/pip-build-env-3jwhp9bl/normal/lib/python3.9/site-packages\n",
      "  sysconfig: /Library/Python/3.9/site-packages\u001b[0m\n",
      "\u001b[33m  WARNING: Value for prefixed-platlib does not match. Please report this to <https://github.com/pypa/pip/issues/10151>\n",
      "  distutils: /private/var/folders/6d/7kpqxgm142qc20s583q5q0zw0000gp/T/pip-build-env-3jwhp9bl/normal/lib/python3.9/site-packages\n",
      "  sysconfig: /Library/Python/3.9/site-packages\u001b[0m\n",
      "\u001b[33m  WARNING: Additional context:\n",
      "  user = False\n",
      "  home = None\n",
      "  root = None\n",
      "  prefix = '/private/var/folders/6d/7kpqxgm142qc20s583q5q0zw0000gp/T/pip-build-env-3jwhp9bl/normal'\u001b[0m\n",
      "\u001b[33m  WARNING: Value for prefixed-purelib does not match. Please report this to <https://github.com/pypa/pip/issues/10151>\n",
      "  distutils: /private/var/folders/6d/7kpqxgm142qc20s583q5q0zw0000gp/T/pip-build-env-3jwhp9bl/overlay/lib/python3.9/site-packages\n",
      "  sysconfig: /Library/Python/3.9/site-packages\u001b[0m\n",
      "\u001b[33m  WARNING: Value for prefixed-platlib does not match. Please report this to <https://github.com/pypa/pip/issues/10151>\n",
      "  distutils: /private/var/folders/6d/7kpqxgm142qc20s583q5q0zw0000gp/T/pip-build-env-3jwhp9bl/overlay/lib/python3.9/site-packages\n",
      "  sysconfig: /Library/Python/3.9/site-packages\u001b[0m\n",
      "\u001b[33m  WARNING: Additional context:\n",
      "  user = False\n",
      "  home = None\n",
      "  root = None\n",
      "  prefix = '/private/var/folders/6d/7kpqxgm142qc20s583q5q0zw0000gp/T/pip-build-env-3jwhp9bl/overlay'\u001b[0m\n",
      "  Installing build dependencies ... \u001b[?25ldone\n",
      "\u001b[?25h  Getting requirements to build wheel ... \u001b[?25ldone\n",
      "\u001b[?25h    Preparing wheel metadata ... \u001b[?25ldone\n",
      "\u001b[?25hCollecting pysimplevalidate>=0.2.7\n",
      "  Downloading PySimpleValidate-0.2.12.tar.gz (22 kB)\n",
      "\u001b[33m  WARNING: Value for prefixed-purelib does not match. Please report this to <https://github.com/pypa/pip/issues/10151>\n",
      "  distutils: /private/var/folders/6d/7kpqxgm142qc20s583q5q0zw0000gp/T/pip-build-env-7k2zcwqo/normal/lib/python3.9/site-packages\n",
      "  sysconfig: /Library/Python/3.9/site-packages\u001b[0m\n",
      "\u001b[33m  WARNING: Value for prefixed-platlib does not match. Please report this to <https://github.com/pypa/pip/issues/10151>\n",
      "  distutils: /private/var/folders/6d/7kpqxgm142qc20s583q5q0zw0000gp/T/pip-build-env-7k2zcwqo/normal/lib/python3.9/site-packages\n",
      "  sysconfig: /Library/Python/3.9/site-packages\u001b[0m\n",
      "\u001b[33m  WARNING: Additional context:\n",
      "  user = False\n",
      "  home = None\n",
      "  root = None\n",
      "  prefix = '/private/var/folders/6d/7kpqxgm142qc20s583q5q0zw0000gp/T/pip-build-env-7k2zcwqo/normal'\u001b[0m\n",
      "\u001b[33m  WARNING: Value for prefixed-purelib does not match. Please report this to <https://github.com/pypa/pip/issues/10151>\n",
      "  distutils: /private/var/folders/6d/7kpqxgm142qc20s583q5q0zw0000gp/T/pip-build-env-7k2zcwqo/overlay/lib/python3.9/site-packages\n",
      "  sysconfig: /Library/Python/3.9/site-packages\u001b[0m\n",
      "\u001b[33m  WARNING: Value for prefixed-platlib does not match. Please report this to <https://github.com/pypa/pip/issues/10151>\n",
      "  distutils: /private/var/folders/6d/7kpqxgm142qc20s583q5q0zw0000gp/T/pip-build-env-7k2zcwqo/overlay/lib/python3.9/site-packages\n",
      "  sysconfig: /Library/Python/3.9/site-packages\u001b[0m\n",
      "\u001b[33m  WARNING: Additional context:\n",
      "  user = False\n",
      "  home = None\n",
      "  root = None\n",
      "  prefix = '/private/var/folders/6d/7kpqxgm142qc20s583q5q0zw0000gp/T/pip-build-env-7k2zcwqo/overlay'\u001b[0m\n",
      "  Installing build dependencies ... \u001b[?25ldone\n",
      "\u001b[?25h  Getting requirements to build wheel ... \u001b[?25ldone\n",
      "\u001b[?25h    Preparing wheel metadata ... \u001b[?25ldone\n",
      "\u001b[?25hCollecting stdiomask>=0.0.3\n",
      "  Downloading stdiomask-0.0.6.tar.gz (3.6 kB)\n",
      "\u001b[33m  WARNING: Value for prefixed-purelib does not match. Please report this to <https://github.com/pypa/pip/issues/10151>\n",
      "  distutils: /private/var/folders/6d/7kpqxgm142qc20s583q5q0zw0000gp/T/pip-build-env-v40isaek/normal/lib/python3.9/site-packages\n",
      "  sysconfig: /Library/Python/3.9/site-packages\u001b[0m\n",
      "\u001b[33m  WARNING: Value for prefixed-platlib does not match. Please report this to <https://github.com/pypa/pip/issues/10151>\n",
      "  distutils: /private/var/folders/6d/7kpqxgm142qc20s583q5q0zw0000gp/T/pip-build-env-v40isaek/normal/lib/python3.9/site-packages\n",
      "  sysconfig: /Library/Python/3.9/site-packages\u001b[0m\n",
      "\u001b[33m  WARNING: Additional context:\n",
      "  user = False\n",
      "  home = None\n",
      "  root = None\n",
      "  prefix = '/private/var/folders/6d/7kpqxgm142qc20s583q5q0zw0000gp/T/pip-build-env-v40isaek/normal'\u001b[0m\n",
      "\u001b[33m  WARNING: Value for prefixed-purelib does not match. Please report this to <https://github.com/pypa/pip/issues/10151>\n",
      "  distutils: /private/var/folders/6d/7kpqxgm142qc20s583q5q0zw0000gp/T/pip-build-env-v40isaek/overlay/lib/python3.9/site-packages\n",
      "  sysconfig: /Library/Python/3.9/site-packages\u001b[0m\n",
      "\u001b[33m  WARNING: Value for prefixed-platlib does not match. Please report this to <https://github.com/pypa/pip/issues/10151>\n",
      "  distutils: /private/var/folders/6d/7kpqxgm142qc20s583q5q0zw0000gp/T/pip-build-env-v40isaek/overlay/lib/python3.9/site-packages\n",
      "  sysconfig: /Library/Python/3.9/site-packages\u001b[0m\n",
      "\u001b[33m  WARNING: Additional context:\n",
      "  user = False\n",
      "  home = None\n",
      "  root = None\n",
      "  prefix = '/private/var/folders/6d/7kpqxgm142qc20s583q5q0zw0000gp/T/pip-build-env-v40isaek/overlay'\u001b[0m\n",
      "  Installing build dependencies ... \u001b[?25ldone\n",
      "\u001b[?25h  Getting requirements to build wheel ... \u001b[?25ldone\n",
      "\u001b[?25h    Preparing wheel metadata ... \u001b[?25ldone\n",
      "\u001b[?25hBuilding wheels for collected packages: pyinputplus, pysimplevalidate, stdiomask\n",
      "  Building wheel for pyinputplus (PEP 517) ... \u001b[?25ldone\n",
      "\u001b[?25h  Created wheel for pyinputplus: filename=PyInputPlus-0.2.12-py3-none-any.whl size=11315 sha256=5e04226e7e454864cf9b9a9a07496dcb2dbc8d5e093328a2a5b839916aaa8341\n",
      "  Stored in directory: /Users/Moti/Library/Caches/pip/wheels/b4/6e/2f/8a852732646cabec36c3fe8fc060ec5bea1c1be711432c47f7\n",
      "  Building wheel for pysimplevalidate (PEP 517) ... \u001b[?25ldone\n",
      "\u001b[?25h  Created wheel for pysimplevalidate: filename=PySimpleValidate-0.2.12-py3-none-any.whl size=16191 sha256=443de73858872f2afa244b15ce5e36e9d2832ff41c2caf163d2ac468eef82e97\n",
      "  Stored in directory: /Users/Moti/Library/Caches/pip/wheels/b1/44/4a/043a4f4c4512c7cdfb0c2b8408b18b0de5fd45cac57f5dfa02\n",
      "  Building wheel for stdiomask (PEP 517) ... \u001b[?25ldone\n",
      "\u001b[?25h  Created wheel for stdiomask: filename=stdiomask-0.0.6-py3-none-any.whl size=3320 sha256=10de18b11eb2c64debc8bb895aa3e66b918cf70060ce2ba76bc6a393e0583e71\n",
      "  Stored in directory: /Users/Moti/Library/Caches/pip/wheels/1d/aa/47/f41f117d22c5de82e95d9342f44da578c80610739a2d5ebec4\n",
      "Successfully built pyinputplus pysimplevalidate stdiomask\n",
      "Installing collected packages: stdiomask, pysimplevalidate, pyinputplus\n",
      "Successfully installed pyinputplus-0.2.12 pysimplevalidate-0.2.12 stdiomask-0.0.6\n",
      "\u001b[33mWARNING: You are using pip version 21.2.4; however, version 23.1.2 is available.\n",
      "You should consider upgrading via the '/Library/Developer/CommandLineTools/usr/bin/python3 -m pip install --upgrade pip' command.\u001b[0m\n",
      "Note: you may need to restart the kernel to use updated packages.\n"
     ]
    }
   ],
   "source": [
    "pip install pyinputplus"
   ]
  },
  {
   "cell_type": "code",
   "execution_count": 6,
   "metadata": {},
   "outputs": [
    {
     "name": "stdout",
     "output_type": "stream",
     "text": [
      "Enter a number between 0 and 99: Number must be at maximum 99.\n",
      "Enter a number between 0 and 99: The entered number is:  65\n"
     ]
    }
   ],
   "source": [
    "#Q - 4. Using PyInputPlus, how do you ensure that the user enters a whole number between 0 and 99?\n",
    "#Answer:\n",
    "'''To make sure that the user enters a whole number between 0 and 99 using PyInputPlus, we can use the inputInt() function along with the 'min', 'max', and 'greaterThan'/'lessThan' parameters. \n",
    "Below is an example:'''\n",
    "import pyinputplus as pypi\n",
    "num1 = pypi.inputInt(\"Enter a number between 0 and 99: \",min= 0,max=99)\n",
    "print(\"The entered number is: \",num1 )"
   ]
  },
  {
   "cell_type": "code",
   "execution_count": null,
   "metadata": {},
   "outputs": [],
   "source": [
    "#Q - 5. What is transferred to the keyword arguments allowRegexes and blockRegexes?\n",
    "#Answer:\n",
    "In PyInputPlus, the keyword arguments allowRegexes and blockRegexes are used to provide regular expressions as patterns to allow or block specific input values.\n",
    "'allowRegexes': This keyword argument accepts a list of regular expression patterns. When specified, PyInputPlus will only accept input values that match any of the provided patterns.\n",
    "'blockRegexes': This keyword argument accepts a list of regular expression patterns. When specified, PyInputPlus will reject input values that match any of the provided patterns."
   ]
  },
  {
   "cell_type": "code",
   "execution_count": null,
   "metadata": {},
   "outputs": [],
   "source": [
    "#Q - 6. If a blank input is entered three times, what does inputStr(limit=3) do?\n",
    "#Answer:\n",
    "If inputStr() is used with limit=3, which means the user has three chances to provide valid input. If the user enters a blank input (an empty string) three times in a row, the function will raise a 'RetryLimitException'. \n",
    "The program will not proceed further, and an error message will be displayed indicating that the maximum number of retries has been exceeded."
   ]
  },
  {
   "cell_type": "code",
   "execution_count": null,
   "metadata": {},
   "outputs": [],
   "source": [
    "#Q - 7. If blank input is entered three times, what does inputStr(limit=3, default='hello') do?\n",
    "#Answer:\n",
    "If blank input is entered three times, then inputStr(limit=3, default='hello') will not raise an exception but will print 'hello' and the program will continue."
   ]
  }
 ],
 "metadata": {
  "kernelspec": {
   "display_name": "Python 3.9.6 64-bit",
   "language": "python",
   "name": "python3"
  },
  "language_info": {
   "codemirror_mode": {
    "name": "ipython",
    "version": 3
   },
   "file_extension": ".py",
   "mimetype": "text/x-python",
   "name": "python",
   "nbconvert_exporter": "python",
   "pygments_lexer": "ipython3",
   "version": "3.9.6"
  },
  "orig_nbformat": 4,
  "vscode": {
   "interpreter": {
    "hash": "31f2aee4e71d21fbe5cf8b01ff0e069b9275f58929596ceb00d14d90e3e16cd6"
   }
  }
 },
 "nbformat": 4,
 "nbformat_minor": 2
}
